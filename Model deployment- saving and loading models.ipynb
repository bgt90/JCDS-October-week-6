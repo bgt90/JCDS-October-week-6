{
 "cells": [
  {
   "cell_type": "markdown",
   "metadata": {},
   "source": [
    "# Business Problems\n",
    "* sertifikasi wine --> untuk marketing ploy\n",
    "* Sertifikasi wine dilakukan oleh Master Sommelier yang harganya seringkali mahal (595 usd - 1.195 usd), jumlahnya sedikit\n",
    "* Penilaian dari Master Sommelier seringkali subjective\n",
    "\n",
    "* how can we differentiate good and bad wine without sommeliers? --> prediction"
   ]
  },
  {
   "cell_type": "markdown",
   "metadata": {},
   "source": [
    "# Data"
   ]
  },
  {
   "cell_type": "code",
   "execution_count": 44,
   "metadata": {
    "ExecuteTime": {
     "end_time": "2022-02-07T02:51:56.198058Z",
     "start_time": "2022-02-07T02:51:56.187120Z"
    }
   },
   "outputs": [],
   "source": [
    "import pandas as pd\n",
    "import numpy as np\n",
    "\n",
    "import seaborn as sns\n",
    "import matplotlib.pyplot as plt"
   ]
  },
  {
   "cell_type": "code",
   "execution_count": 45,
   "metadata": {
    "ExecuteTime": {
     "end_time": "2022-02-07T02:51:56.573227Z",
     "start_time": "2022-02-07T02:51:56.537291Z"
    }
   },
   "outputs": [
    {
     "data": {
      "text/html": [
       "<div>\n",
       "<style scoped>\n",
       "    .dataframe tbody tr th:only-of-type {\n",
       "        vertical-align: middle;\n",
       "    }\n",
       "\n",
       "    .dataframe tbody tr th {\n",
       "        vertical-align: top;\n",
       "    }\n",
       "\n",
       "    .dataframe thead th {\n",
       "        text-align: right;\n",
       "    }\n",
       "</style>\n",
       "<table border=\"1\" class=\"dataframe\">\n",
       "  <thead>\n",
       "    <tr style=\"text-align: right;\">\n",
       "      <th></th>\n",
       "      <th>fixed acidity</th>\n",
       "      <th>volatile acidity</th>\n",
       "      <th>citric acid</th>\n",
       "      <th>residual sugar</th>\n",
       "      <th>chlorides</th>\n",
       "      <th>free sulfur dioxide</th>\n",
       "      <th>total sulfur dioxide</th>\n",
       "      <th>density</th>\n",
       "      <th>pH</th>\n",
       "      <th>sulphates</th>\n",
       "      <th>alcohol</th>\n",
       "      <th>quality</th>\n",
       "    </tr>\n",
       "  </thead>\n",
       "  <tbody>\n",
       "    <tr>\n",
       "      <th>0</th>\n",
       "      <td>7.0</td>\n",
       "      <td>0.27</td>\n",
       "      <td>0.36</td>\n",
       "      <td>20.7</td>\n",
       "      <td>0.045</td>\n",
       "      <td>45.0</td>\n",
       "      <td>170.0</td>\n",
       "      <td>1.0010</td>\n",
       "      <td>3.00</td>\n",
       "      <td>0.45</td>\n",
       "      <td>8.8</td>\n",
       "      <td>6.0</td>\n",
       "    </tr>\n",
       "    <tr>\n",
       "      <th>1</th>\n",
       "      <td>6.3</td>\n",
       "      <td>0.30</td>\n",
       "      <td>0.34</td>\n",
       "      <td>1.6</td>\n",
       "      <td>0.049</td>\n",
       "      <td>14.0</td>\n",
       "      <td>132.0</td>\n",
       "      <td>0.9940</td>\n",
       "      <td>3.30</td>\n",
       "      <td>0.49</td>\n",
       "      <td>9.5</td>\n",
       "      <td>6.0</td>\n",
       "    </tr>\n",
       "    <tr>\n",
       "      <th>2</th>\n",
       "      <td>8.1</td>\n",
       "      <td>0.28</td>\n",
       "      <td>0.40</td>\n",
       "      <td>6.9</td>\n",
       "      <td>0.050</td>\n",
       "      <td>30.0</td>\n",
       "      <td>97.0</td>\n",
       "      <td>0.9951</td>\n",
       "      <td>3.26</td>\n",
       "      <td>0.44</td>\n",
       "      <td>10.1</td>\n",
       "      <td>6.0</td>\n",
       "    </tr>\n",
       "    <tr>\n",
       "      <th>3</th>\n",
       "      <td>7.2</td>\n",
       "      <td>0.23</td>\n",
       "      <td>0.32</td>\n",
       "      <td>8.5</td>\n",
       "      <td>0.058</td>\n",
       "      <td>47.0</td>\n",
       "      <td>186.0</td>\n",
       "      <td>0.9956</td>\n",
       "      <td>3.19</td>\n",
       "      <td>0.40</td>\n",
       "      <td>9.9</td>\n",
       "      <td>6.0</td>\n",
       "    </tr>\n",
       "    <tr>\n",
       "      <th>4</th>\n",
       "      <td>7.2</td>\n",
       "      <td>0.23</td>\n",
       "      <td>0.32</td>\n",
       "      <td>8.5</td>\n",
       "      <td>0.058</td>\n",
       "      <td>47.0</td>\n",
       "      <td>186.0</td>\n",
       "      <td>0.9956</td>\n",
       "      <td>3.19</td>\n",
       "      <td>0.40</td>\n",
       "      <td>9.9</td>\n",
       "      <td>6.0</td>\n",
       "    </tr>\n",
       "  </tbody>\n",
       "</table>\n",
       "</div>"
      ],
      "text/plain": [
       "   fixed acidity  volatile acidity  citric acid  residual sugar  chlorides  \\\n",
       "0            7.0              0.27         0.36            20.7      0.045   \n",
       "1            6.3              0.30         0.34             1.6      0.049   \n",
       "2            8.1              0.28         0.40             6.9      0.050   \n",
       "3            7.2              0.23         0.32             8.5      0.058   \n",
       "4            7.2              0.23         0.32             8.5      0.058   \n",
       "\n",
       "   free sulfur dioxide  total sulfur dioxide  density    pH  sulphates  \\\n",
       "0                 45.0                 170.0   1.0010  3.00       0.45   \n",
       "1                 14.0                 132.0   0.9940  3.30       0.49   \n",
       "2                 30.0                  97.0   0.9951  3.26       0.44   \n",
       "3                 47.0                 186.0   0.9956  3.19       0.40   \n",
       "4                 47.0                 186.0   0.9956  3.19       0.40   \n",
       "\n",
       "   alcohol  quality  \n",
       "0      8.8      6.0  \n",
       "1      9.5      6.0  \n",
       "2     10.1      6.0  \n",
       "3      9.9      6.0  \n",
       "4      9.9      6.0  "
      ]
     },
     "execution_count": 45,
     "metadata": {},
     "output_type": "execute_result"
    }
   ],
   "source": [
    "df_wine=pd.read_csv('white_wine.csv')\n",
    "df_wine.head()"
   ]
  },
  {
   "cell_type": "code",
   "execution_count": 46,
   "metadata": {
    "ExecuteTime": {
     "end_time": "2022-02-07T02:51:57.100802Z",
     "start_time": "2022-02-07T02:51:57.083850Z"
    }
   },
   "outputs": [],
   "source": [
    "df_wine=df_wine[['fixed acidity','chlorides','density','alcohol','quality']].copy()"
   ]
  },
  {
   "cell_type": "markdown",
   "metadata": {},
   "source": [
    "# Preprocess"
   ]
  },
  {
   "cell_type": "code",
   "execution_count": 47,
   "metadata": {
    "ExecuteTime": {
     "end_time": "2022-02-07T02:51:59.247503Z",
     "start_time": "2022-02-07T02:51:59.222536Z"
    }
   },
   "outputs": [
    {
     "data": {
      "text/html": [
       "<div>\n",
       "<style scoped>\n",
       "    .dataframe tbody tr th:only-of-type {\n",
       "        vertical-align: middle;\n",
       "    }\n",
       "\n",
       "    .dataframe tbody tr th {\n",
       "        vertical-align: top;\n",
       "    }\n",
       "\n",
       "    .dataframe thead th {\n",
       "        text-align: right;\n",
       "    }\n",
       "</style>\n",
       "<table border=\"1\" class=\"dataframe\">\n",
       "  <thead>\n",
       "    <tr style=\"text-align: right;\">\n",
       "      <th></th>\n",
       "      <th>fixed acidity</th>\n",
       "      <th>chlorides</th>\n",
       "    </tr>\n",
       "  </thead>\n",
       "  <tbody>\n",
       "    <tr>\n",
       "      <th>count</th>\n",
       "      <td>520.000000</td>\n",
       "      <td>520.000000</td>\n",
       "    </tr>\n",
       "    <tr>\n",
       "      <th>mean</th>\n",
       "      <td>6.812115</td>\n",
       "      <td>0.047781</td>\n",
       "    </tr>\n",
       "    <tr>\n",
       "      <th>std</th>\n",
       "      <td>0.730447</td>\n",
       "      <td>0.023006</td>\n",
       "    </tr>\n",
       "    <tr>\n",
       "      <th>min</th>\n",
       "      <td>5.000000</td>\n",
       "      <td>0.020000</td>\n",
       "    </tr>\n",
       "    <tr>\n",
       "      <th>25%</th>\n",
       "      <td>6.300000</td>\n",
       "      <td>0.038000</td>\n",
       "    </tr>\n",
       "    <tr>\n",
       "      <th>50%</th>\n",
       "      <td>6.800000</td>\n",
       "      <td>0.045000</td>\n",
       "    </tr>\n",
       "    <tr>\n",
       "      <th>75%</th>\n",
       "      <td>7.200000</td>\n",
       "      <td>0.052000</td>\n",
       "    </tr>\n",
       "    <tr>\n",
       "      <th>max</th>\n",
       "      <td>10.200000</td>\n",
       "      <td>0.346000</td>\n",
       "    </tr>\n",
       "  </tbody>\n",
       "</table>\n",
       "</div>"
      ],
      "text/plain": [
       "       fixed acidity   chlorides\n",
       "count     520.000000  520.000000\n",
       "mean        6.812115    0.047781\n",
       "std         0.730447    0.023006\n",
       "min         5.000000    0.020000\n",
       "25%         6.300000    0.038000\n",
       "50%         6.800000    0.045000\n",
       "75%         7.200000    0.052000\n",
       "max        10.200000    0.346000"
      ]
     },
     "execution_count": 47,
     "metadata": {},
     "output_type": "execute_result"
    }
   ],
   "source": [
    "df_wine[['fixed acidity','chlorides']].describe()"
   ]
  },
  {
   "cell_type": "code",
   "execution_count": 48,
   "metadata": {
    "ExecuteTime": {
     "end_time": "2022-02-07T02:52:05.997172Z",
     "start_time": "2022-02-07T02:52:05.747367Z"
    }
   },
   "outputs": [
    {
     "name": "stderr",
     "output_type": "stream",
     "text": [
      "C:\\Users\\brigi\\anaconda3\\lib\\site-packages\\seaborn\\distributions.py:2619: FutureWarning: `distplot` is a deprecated function and will be removed in a future version. Please adapt your code to use either `displot` (a figure-level function with similar flexibility) or `histplot` (an axes-level function for histograms).\n",
      "  warnings.warn(msg, FutureWarning)\n"
     ]
    },
    {
     "data": {
      "text/plain": [
       "<matplotlib.axes._subplots.AxesSubplot at 0x1a37fef34c0>"
      ]
     },
     "execution_count": 48,
     "metadata": {},
     "output_type": "execute_result"
    },
    {
     "data": {
      "image/png": "[encoded data removed]",
      "text/plain": [
       "<Figure size 432x288 with 1 Axes>"
      ]
     },
     "metadata": {
      "needs_background": "light"
     },
     "output_type": "display_data"
    }
   ],
   "source": [
    "sns.distplot(df_wine['fixed acidity'])"
   ]
  },
  {
   "cell_type": "code",
   "execution_count": 49,
   "metadata": {
    "ExecuteTime": {
     "end_time": "2022-02-07T02:52:06.620503Z",
     "start_time": "2022-02-07T02:52:06.205612Z"
    }
   },
   "outputs": [
    {
     "data": {
      "text/plain": [
       "<seaborn.axisgrid.FacetGrid at 0x1a30ec215b0>"
      ]
     },
     "execution_count": 49,
     "metadata": {},
     "output_type": "execute_result"
    },
    {
     "data": {
      "image/png": "[encoded data removed]",
      "text/plain": [
       "<Figure size 360x360 with 1 Axes>"
      ]
     },
     "metadata": {
      "needs_background": "light"
     },
     "output_type": "display_data"
    }
   ],
   "source": [
    "sns.displot(df_wine['chlorides'])"
   ]
  },
  {
   "cell_type": "markdown",
   "metadata": {},
   "source": [
    "binning `fixed acidity` dan `chlorides`"
   ]
  },
  {
   "cell_type": "code",
   "execution_count": 50,
   "metadata": {
    "ExecuteTime": {
     "end_time": "2022-02-07T02:52:07.407193Z",
     "start_time": "2022-02-07T02:52:07.402652Z"
    }
   },
   "outputs": [],
   "source": [
    "def binning_fa(value):\n",
    "    if value>8:\n",
    "        return 'high'\n",
    "    elif value>6.5:\n",
    "        return 'medium'\n",
    "    else:\n",
    "        return 'low'\n",
    "    \n",
    "def binning_cl(value):\n",
    "    if value>0.07:\n",
    "        return 'high'\n",
    "    elif value>0.05:\n",
    "        return 'medium'\n",
    "    else:\n",
    "        return 'low'"
   ]
  },
  {
   "cell_type": "code",
   "execution_count": 51,
   "metadata": {
    "ExecuteTime": {
     "end_time": "2022-02-07T02:52:08.015923Z",
     "start_time": "2022-02-07T02:52:08.007941Z"
    }
   },
   "outputs": [],
   "source": [
    "df_wine['fixed acidity level']=df_wine['fixed acidity'].apply(binning_fa)\n",
    "df_wine['chlorides level']=df_wine['chlorides'].apply(binning_cl)"
   ]
  },
  {
   "cell_type": "code",
   "execution_count": 52,
   "metadata": {
    "ExecuteTime": {
     "end_time": "2022-02-07T02:52:09.156540Z",
     "start_time": "2022-02-07T02:52:09.140583Z"
    }
   },
   "outputs": [
    {
     "data": {
      "text/html": [
       "<div>\n",
       "<style scoped>\n",
       "    .dataframe tbody tr th:only-of-type {\n",
       "        vertical-align: middle;\n",
       "    }\n",
       "\n",
       "    .dataframe tbody tr th {\n",
       "        vertical-align: top;\n",
       "    }\n",
       "\n",
       "    .dataframe thead th {\n",
       "        text-align: right;\n",
       "    }\n",
       "</style>\n",
       "<table border=\"1\" class=\"dataframe\">\n",
       "  <thead>\n",
       "    <tr style=\"text-align: right;\">\n",
       "      <th></th>\n",
       "      <th>fixed acidity</th>\n",
       "      <th>chlorides</th>\n",
       "      <th>density</th>\n",
       "      <th>alcohol</th>\n",
       "      <th>quality</th>\n",
       "      <th>fixed acidity level</th>\n",
       "      <th>chlorides level</th>\n",
       "    </tr>\n",
       "  </thead>\n",
       "  <tbody>\n",
       "    <tr>\n",
       "      <th>0</th>\n",
       "      <td>7.0</td>\n",
       "      <td>0.045</td>\n",
       "      <td>1.0010</td>\n",
       "      <td>8.8</td>\n",
       "      <td>6.0</td>\n",
       "      <td>medium</td>\n",
       "      <td>low</td>\n",
       "    </tr>\n",
       "    <tr>\n",
       "      <th>1</th>\n",
       "      <td>6.3</td>\n",
       "      <td>0.049</td>\n",
       "      <td>0.9940</td>\n",
       "      <td>9.5</td>\n",
       "      <td>6.0</td>\n",
       "      <td>low</td>\n",
       "      <td>low</td>\n",
       "    </tr>\n",
       "    <tr>\n",
       "      <th>2</th>\n",
       "      <td>8.1</td>\n",
       "      <td>0.050</td>\n",
       "      <td>0.9951</td>\n",
       "      <td>10.1</td>\n",
       "      <td>6.0</td>\n",
       "      <td>high</td>\n",
       "      <td>low</td>\n",
       "    </tr>\n",
       "    <tr>\n",
       "      <th>3</th>\n",
       "      <td>7.2</td>\n",
       "      <td>0.058</td>\n",
       "      <td>0.9956</td>\n",
       "      <td>9.9</td>\n",
       "      <td>6.0</td>\n",
       "      <td>medium</td>\n",
       "      <td>medium</td>\n",
       "    </tr>\n",
       "    <tr>\n",
       "      <th>4</th>\n",
       "      <td>7.2</td>\n",
       "      <td>0.058</td>\n",
       "      <td>0.9956</td>\n",
       "      <td>9.9</td>\n",
       "      <td>6.0</td>\n",
       "      <td>medium</td>\n",
       "      <td>medium</td>\n",
       "    </tr>\n",
       "  </tbody>\n",
       "</table>\n",
       "</div>"
      ],
      "text/plain": [
       "   fixed acidity  chlorides  density  alcohol  quality fixed acidity level  \\\n",
       "0            7.0      0.045   1.0010      8.8      6.0              medium   \n",
       "1            6.3      0.049   0.9940      9.5      6.0                 low   \n",
       "2            8.1      0.050   0.9951     10.1      6.0                high   \n",
       "3            7.2      0.058   0.9956      9.9      6.0              medium   \n",
       "4            7.2      0.058   0.9956      9.9      6.0              medium   \n",
       "\n",
       "  chlorides level  \n",
       "0             low  \n",
       "1             low  \n",
       "2             low  \n",
       "3          medium  \n",
       "4          medium  "
      ]
     },
     "execution_count": 52,
     "metadata": {},
     "output_type": "execute_result"
    }
   ],
   "source": [
    "df_wine.head()"
   ]
  },
  {
   "cell_type": "code",
   "execution_count": 54,
   "metadata": {
    "ExecuteTime": {
     "end_time": "2022-02-07T02:52:17.307289Z",
     "start_time": "2022-02-07T02:52:17.294324Z"
    }
   },
   "outputs": [],
   "source": [
    "df_wine['label']=np.where(df_wine['quality']>6,1,0)"
   ]
  },
  {
   "cell_type": "code",
   "execution_count": 55,
   "metadata": {
    "ExecuteTime": {
     "end_time": "2022-02-07T02:52:19.071548Z",
     "start_time": "2022-02-07T02:52:19.049597Z"
    }
   },
   "outputs": [
    {
     "data": {
      "text/plain": [
       "fixed acidity          0\n",
       "chlorides              0\n",
       "density                0\n",
       "alcohol                1\n",
       "quality                1\n",
       "fixed acidity level    0\n",
       "chlorides level        0\n",
       "label                  0\n",
       "dtype: int64"
      ]
     },
     "execution_count": 55,
     "metadata": {},
     "output_type": "execute_result"
    }
   ],
   "source": [
    "df_wine.isna().sum()"
   ]
  },
  {
   "cell_type": "code",
   "execution_count": 57,
   "metadata": {
    "ExecuteTime": {
     "end_time": "2022-02-07T02:53:36.437022Z",
     "start_time": "2022-02-07T02:53:36.427534Z"
    }
   },
   "outputs": [],
   "source": [
    "df_wine['alcohol']=df_wine['alcohol'].fillna(df_wine['alcohol'].mean())"
   ]
  },
  {
   "cell_type": "code",
   "execution_count": 58,
   "metadata": {
    "ExecuteTime": {
     "end_time": "2022-02-07T02:54:39.317971Z",
     "start_time": "2022-02-07T02:54:39.314980Z"
    }
   },
   "outputs": [],
   "source": [
    "# ilustrasi, train= data yang kalian pakai untuk mmebuat model\n",
    "# test: data baru "
   ]
  },
  {
   "cell_type": "code",
   "execution_count": 60,
   "metadata": {
    "ExecuteTime": {
     "end_time": "2022-02-07T02:56:22.173582Z",
     "start_time": "2022-02-07T02:56:22.160617Z"
    }
   },
   "outputs": [],
   "source": [
    "wine_train=df_wine[['alcohol','density','fixed acidity level','chlorides level','label']][:400]\n",
    "wine_test=df_wine[['alcohol','density','fixed acidity level','chlorides level','label']][400:]"
   ]
  },
  {
   "cell_type": "code",
   "execution_count": 61,
   "metadata": {
    "ExecuteTime": {
     "end_time": "2022-02-07T02:56:59.780131Z",
     "start_time": "2022-02-07T02:56:59.757192Z"
    }
   },
   "outputs": [],
   "source": [
    "wine_train.to_csv('wine_train.csv',index=False)\n",
    "wine_test.to_csv('wine_test.csv',index=False)"
   ]
  },
  {
   "cell_type": "code",
   "execution_count": 62,
   "metadata": {
    "ExecuteTime": {
     "end_time": "2022-02-07T02:59:09.222172Z",
     "start_time": "2022-02-07T02:59:09.203035Z"
    }
   },
   "outputs": [
    {
     "data": {
      "text/plain": [
       "0    422\n",
       "1     98\n",
       "Name: label, dtype: int64"
      ]
     },
     "execution_count": 62,
     "metadata": {},
     "output_type": "execute_result"
    }
   ],
   "source": [
    "df_wine['label'].value_counts()"
   ]
  },
  {
   "cell_type": "markdown",
   "metadata": {},
   "source": [
    "# Model Training\n",
    "kita sudah tau model yang ingin dipakai  \n",
    "\n",
    "* kelas 0: bad wine\n",
    "* kelas 1: good wine\n",
    "\n",
    "kesalahan:\n",
    "FP: prediksi good wine, actual bad wine --> hasil sertifikasi tidak dipercaya\n",
    "FN: prediksi bad wine, actual good wine --> produsen wine kecewa\n",
    "\n",
    "FP lebih fatal--> fokus ke precision, tapi karena imbalance, pakai F1 dalam pemilihan model."
   ]
  },
  {
   "cell_type": "code",
   "execution_count": 64,
   "metadata": {
    "ExecuteTime": {
     "end_time": "2022-02-07T03:05:41.331472Z",
     "start_time": "2022-02-07T03:05:41.315482Z"
    }
   },
   "outputs": [],
   "source": [
    "# model\n",
    "from sklearn.linear_model import LogisticRegression\n",
    "\n",
    "# feature engineering\n",
    "from sklearn.pipeline import Pipeline\n",
    "from sklearn.preprocessing import OneHotEncoder, PolynomialFeatures\n",
    "from sklearn.compose import ColumnTransformer\n",
    "\n",
    "#evaluation\n",
    "from sklearn.model_selection import GridSearchCV, StratifiedKFold, train_test_split\n",
    "from sklearn.metrics import f1_score, classification_report\n",
    "\n",
    "#saving/loading models\n",
    "import pickle\n",
    "import joblib"
   ]
  },
  {
   "cell_type": "code",
   "execution_count": 65,
   "metadata": {
    "ExecuteTime": {
     "end_time": "2022-02-07T03:06:26.658631Z",
     "start_time": "2022-02-07T03:06:26.639715Z"
    }
   },
   "outputs": [],
   "source": [
    "# data\n",
    "wine_train=pd.read_csv('wine_train.csv')"
   ]
  },
  {
   "cell_type": "code",
   "execution_count": 66,
   "metadata": {
    "ExecuteTime": {
     "end_time": "2022-02-07T03:08:17.114260Z",
     "start_time": "2022-02-07T03:08:17.102261Z"
    }
   },
   "outputs": [],
   "source": [
    "# preprocess\n",
    "poly=PolynomialFeatures(degree=3, interaction_only=False, include_bias=False)\n",
    "\n",
    "transformer= ColumnTransformer([\n",
    "    ('poly',poly,['alcohol','density']),\n",
    "    ('onehot',OneHotEncoder(drop='first'),['fixed acidity level','chlorides level'])\n",
    "])"
   ]
  },
  {
   "cell_type": "code",
   "execution_count": 67,
   "metadata": {
    "ExecuteTime": {
     "end_time": "2022-02-07T03:10:05.236754Z",
     "start_time": "2022-02-07T03:10:05.221763Z"
    }
   },
   "outputs": [],
   "source": [
    "# splitting\n",
    "x=wine_train.drop(columns='label')\n",
    "y=wine_train['label']\n",
    "\n",
    "x_train, x_test, y_train, y_test= train_test_split(x,y, stratify=y, random_state=2020)"
   ]
  },
  {
   "cell_type": "code",
   "execution_count": 68,
   "metadata": {
    "ExecuteTime": {
     "end_time": "2022-02-07T03:13:05.616415Z",
     "start_time": "2022-02-07T03:13:05.605415Z"
    }
   },
   "outputs": [],
   "source": [
    "# model tunning\n",
    "model= LogisticRegression(solver='liblinear',random_state=2020)\n",
    "estimator= Pipeline([\n",
    "    ('preprocess', transformer),\n",
    "    ('model',model)\n",
    "])"
   ]
  },
  {
   "cell_type": "code",
   "execution_count": 69,
   "metadata": {
    "ExecuteTime": {
     "end_time": "2022-02-07T03:14:08.952329Z",
     "start_time": "2022-02-07T03:14:08.937335Z"
    }
   },
   "outputs": [],
   "source": [
    "hyperparam_space={\n",
    "    'model__C':[100,10,1,0.1,0.01,0.001],\n",
    "    'model__solver':['liblinear','newton-cg']\n",
    "}"
   ]
  },
  {
   "cell_type": "code",
   "execution_count": 70,
   "metadata": {
    "ExecuteTime": {
     "end_time": "2022-02-07T03:15:37.891751Z",
     "start_time": "2022-02-07T03:15:32.751481Z"
    }
   },
   "outputs": [
    {
     "data": {
      "text/plain": [
       "GridSearchCV(cv=StratifiedKFold(n_splits=5, random_state=None, shuffle=False),\n",
       "             estimator=Pipeline(steps=[('preprocess',\n",
       "                                        ColumnTransformer(transformers=[('poly',\n",
       "                                                                         PolynomialFeatures(degree=3,\n",
       "                                                                                            include_bias=False),\n",
       "                                                                         ['alcohol',\n",
       "                                                                          'density']),\n",
       "                                                                        ('onehot',\n",
       "                                                                         OneHotEncoder(drop='first'),\n",
       "                                                                         ['fixed '\n",
       "                                                                          'acidity '\n",
       "                                                                          'level',\n",
       "                                                                          'chlorides '\n",
       "                                                                          'level'])])),\n",
       "                                       ('model',\n",
       "                                        LogisticRegression(random_state=2020,\n",
       "                                                           solver='liblinear'))]),\n",
       "             n_jobs=-1,\n",
       "             param_grid={'model__C': [100, 10, 1, 0.1, 0.01, 0.001],\n",
       "                         'model__solver': ['liblinear', 'newton-cg']},\n",
       "             scoring='f1')"
      ]
     },
     "execution_count": 70,
     "metadata": {},
     "output_type": "execute_result"
    }
   ],
   "source": [
    "skfold=StratifiedKFold(n_splits=5)\n",
    "\n",
    "grid_search= GridSearchCV(\n",
    "    estimator=estimator,\n",
    "    param_grid= hyperparam_space,\n",
    "    cv=skfold,\n",
    "    scoring='f1',\n",
    "    n_jobs=-1\n",
    ")\n",
    "grid_search.fit(x_train,y_train)"
   ]
  },
  {
   "cell_type": "code",
   "execution_count": 71,
   "metadata": {
    "ExecuteTime": {
     "end_time": "2022-02-07T03:18:05.233728Z",
     "start_time": "2022-02-07T03:18:05.218736Z"
    }
   },
   "outputs": [
    {
     "name": "stdout",
     "output_type": "stream",
     "text": [
      "{'model__C': 100, 'model__solver': 'liblinear'}\n",
      "0.9482141047358439\n"
     ]
    }
   ],
   "source": [
    "print(grid_search.best_params_)\n",
    "print(grid_search.best_score_)"
   ]
  },
  {
   "cell_type": "code",
   "execution_count": 72,
   "metadata": {
    "ExecuteTime": {
     "end_time": "2022-02-07T03:18:33.314925Z",
     "start_time": "2022-02-07T03:18:33.306945Z"
    }
   },
   "outputs": [],
   "source": [
    "#performa di data test\n",
    "best_model=grid_search.best_estimator_"
   ]
  },
  {
   "cell_type": "code",
   "execution_count": 73,
   "metadata": {
    "ExecuteTime": {
     "end_time": "2022-02-07T03:19:18.975284Z",
     "start_time": "2022-02-07T03:19:18.941406Z"
    }
   },
   "outputs": [
    {
     "name": "stdout",
     "output_type": "stream",
     "text": [
      "              precision    recall  f1-score   support\n",
      "\n",
      "           0       0.99      0.96      0.97        81\n",
      "           1       0.86      0.95      0.90        19\n",
      "\n",
      "    accuracy                           0.96       100\n",
      "   macro avg       0.92      0.96      0.94       100\n",
      "weighted avg       0.96      0.96      0.96       100\n",
      "\n"
     ]
    }
   ],
   "source": [
    "best_model.fit(x_train,y_train)\n",
    "print(classification_report(y_test,best_model.predict(x_test)))"
   ]
  },
  {
   "cell_type": "markdown",
   "metadata": {},
   "source": [
    "# Saving and using models with Pickle "
   ]
  },
  {
   "cell_type": "code",
   "execution_count": 74,
   "metadata": {
    "ExecuteTime": {
     "end_time": "2022-02-07T03:21:08.758326Z",
     "start_time": "2022-02-07T03:21:08.718432Z"
    }
   },
   "outputs": [
    {
     "data": {
      "text/plain": [
       "Pipeline(steps=[('preprocess',\n",
       "                 ColumnTransformer(transformers=[('poly',\n",
       "                                                  PolynomialFeatures(degree=3,\n",
       "                                                                     include_bias=False),\n",
       "                                                  ['alcohol', 'density']),\n",
       "                                                 ('onehot',\n",
       "                                                  OneHotEncoder(drop='first'),\n",
       "                                                  ['fixed acidity level',\n",
       "                                                   'chlorides level'])])),\n",
       "                ('model',\n",
       "                 LogisticRegression(C=100, random_state=2020,\n",
       "                                    solver='liblinear'))])"
      ]
     },
     "execution_count": 74,
     "metadata": {},
     "output_type": "execute_result"
    }
   ],
   "source": [
    "best_model=grid_search.best_estimator_\n",
    "best_model.fit(x,y) \n",
    "#fitting dengan seluruh data x dan y untuk model final --> semakin banyak data, seharusnya semakin baik model bekerja"
   ]
  },
  {
   "cell_type": "code",
   "execution_count": 75,
   "metadata": {
    "ExecuteTime": {
     "end_time": "2022-02-07T03:22:04.841007Z",
     "start_time": "2022-02-07T03:22:04.831033Z"
    }
   },
   "outputs": [],
   "source": [
    "# saving model with pickle\n",
    "filename='model_pickle.sav'\n",
    "pickle.dump(best_model,open(filename,'wb'))"
   ]
  },
  {
   "cell_type": "code",
   "execution_count": 76,
   "metadata": {
    "ExecuteTime": {
     "end_time": "2022-02-07T03:31:05.787023Z",
     "start_time": "2022-02-07T03:31:05.763056Z"
    }
   },
   "outputs": [],
   "source": [
    "# load datatest\n",
    "wine_test=pd.read_csv('wine_test.csv')\n",
    "#load model\n",
    "filename='model_pickle.sav'\n",
    "loaded_model=pickle.load(open(filename,'rb'))"
   ]
  },
  {
   "cell_type": "markdown",
   "metadata": {},
   "source": [
    "## Predict"
   ]
  },
  {
   "cell_type": "code",
   "execution_count": 78,
   "metadata": {
    "ExecuteTime": {
     "end_time": "2022-02-07T03:31:49.413669Z",
     "start_time": "2022-02-07T03:31:49.398712Z"
    }
   },
   "outputs": [],
   "source": [
    "y_pred=loaded_model.predict(wine_test.drop(columns='label'))"
   ]
  },
  {
   "cell_type": "code",
   "execution_count": 79,
   "metadata": {
    "ExecuteTime": {
     "end_time": "2022-02-07T03:32:02.562957Z",
     "start_time": "2022-02-07T03:32:02.543977Z"
    }
   },
   "outputs": [
    {
     "data": {
      "text/plain": [
       "0.9"
      ]
     },
     "execution_count": 79,
     "metadata": {},
     "output_type": "execute_result"
    }
   ],
   "source": [
    "f1_score(wine_test['label'],y_pred) #model mampu mengeneralisasi"
   ]
  },
  {
   "cell_type": "code",
   "execution_count": 80,
   "metadata": {
    "ExecuteTime": {
     "end_time": "2022-02-07T03:32:47.301407Z",
     "start_time": "2022-02-07T03:32:47.278419Z"
    }
   },
   "outputs": [
    {
     "name": "stdout",
     "output_type": "stream",
     "text": [
      "              precision    recall  f1-score   support\n",
      "\n",
      "           0       0.97      0.99      0.98        99\n",
      "           1       0.95      0.86      0.90        21\n",
      "\n",
      "    accuracy                           0.97       120\n",
      "   macro avg       0.96      0.92      0.94       120\n",
      "weighted avg       0.97      0.97      0.97       120\n",
      "\n"
     ]
    }
   ],
   "source": [
    "print(classification_report(wine_test['label'],y_pred))"
   ]
  },
  {
   "cell_type": "code",
   "execution_count": 82,
   "metadata": {
    "ExecuteTime": {
     "end_time": "2022-02-07T03:33:18.225675Z",
     "start_time": "2022-02-07T03:33:18.209707Z"
    }
   },
   "outputs": [
    {
     "data": {
      "text/html": [
       "<div>\n",
       "<style scoped>\n",
       "    .dataframe tbody tr th:only-of-type {\n",
       "        vertical-align: middle;\n",
       "    }\n",
       "\n",
       "    .dataframe tbody tr th {\n",
       "        vertical-align: top;\n",
       "    }\n",
       "\n",
       "    .dataframe thead th {\n",
       "        text-align: right;\n",
       "    }\n",
       "</style>\n",
       "<table border=\"1\" class=\"dataframe\">\n",
       "  <thead>\n",
       "    <tr style=\"text-align: right;\">\n",
       "      <th></th>\n",
       "      <th>alcohol</th>\n",
       "      <th>density</th>\n",
       "      <th>fixed acidity level</th>\n",
       "      <th>chlorides level</th>\n",
       "      <th>label</th>\n",
       "    </tr>\n",
       "  </thead>\n",
       "  <tbody>\n",
       "    <tr>\n",
       "      <th>0</th>\n",
       "      <td>11.4</td>\n",
       "      <td>0.9917</td>\n",
       "      <td>low</td>\n",
       "      <td>low</td>\n",
       "      <td>0</td>\n",
       "    </tr>\n",
       "  </tbody>\n",
       "</table>\n",
       "</div>"
      ],
      "text/plain": [
       "   alcohol  density fixed acidity level chlorides level  label\n",
       "0     11.4   0.9917                 low             low      0"
      ]
     },
     "execution_count": 82,
     "metadata": {},
     "output_type": "execute_result"
    }
   ],
   "source": [
    "wine_test[0:1]"
   ]
  },
  {
   "cell_type": "code",
   "execution_count": 83,
   "metadata": {
    "ExecuteTime": {
     "end_time": "2022-02-07T03:33:36.422917Z",
     "start_time": "2022-02-07T03:33:36.402942Z"
    }
   },
   "outputs": [
    {
     "data": {
      "text/plain": [
       "array([0], dtype=int64)"
      ]
     },
     "execution_count": 83,
     "metadata": {},
     "output_type": "execute_result"
    }
   ],
   "source": [
    "loaded_model.predict(wine_test[0:1])"
   ]
  },
  {
   "cell_type": "markdown",
   "metadata": {},
   "source": [
    "## Making a simple predictor"
   ]
  },
  {
   "cell_type": "code",
   "execution_count": 87,
   "metadata": {
    "ExecuteTime": {
     "end_time": "2022-02-07T03:39:57.350558Z",
     "start_time": "2022-02-07T03:39:57.326623Z"
    }
   },
   "outputs": [
    {
     "data": {
      "text/html": [
       "<div>\n",
       "<style scoped>\n",
       "    .dataframe tbody tr th:only-of-type {\n",
       "        vertical-align: middle;\n",
       "    }\n",
       "\n",
       "    .dataframe tbody tr th {\n",
       "        vertical-align: top;\n",
       "    }\n",
       "\n",
       "    .dataframe thead th {\n",
       "        text-align: right;\n",
       "    }\n",
       "</style>\n",
       "<table border=\"1\" class=\"dataframe\">\n",
       "  <thead>\n",
       "    <tr style=\"text-align: right;\">\n",
       "      <th></th>\n",
       "      <th>alcohol</th>\n",
       "      <th>density</th>\n",
       "      <th>fixed acidity level</th>\n",
       "      <th>chlorides level</th>\n",
       "    </tr>\n",
       "  </thead>\n",
       "  <tbody>\n",
       "    <tr>\n",
       "      <th>0</th>\n",
       "      <td>10</td>\n",
       "      <td>0.999</td>\n",
       "      <td>high</td>\n",
       "      <td>low</td>\n",
       "    </tr>\n",
       "  </tbody>\n",
       "</table>\n",
       "</div>"
      ],
      "text/plain": [
       "   alcohol  density fixed acidity level chlorides level\n",
       "0       10    0.999                high             low"
      ]
     },
     "execution_count": 87,
     "metadata": {},
     "output_type": "execute_result"
    }
   ],
   "source": [
    "df_predict=pd.DataFrame({\n",
    "    'alcohol':[10],\n",
    "    'density':[0.999],\n",
    "    'fixed acidity level':['high'],\n",
    "    'chlorides level':['low']\n",
    "})\n",
    "df_predict #data yang ingin diprediksi\n",
    "#perhatikan kalau nama kolom dan isi kategori harus sesuai dengan data yg difit ke model"
   ]
  },
  {
   "cell_type": "code",
   "execution_count": 90,
   "metadata": {
    "ExecuteTime": {
     "end_time": "2022-02-07T03:41:12.913335Z",
     "start_time": "2022-02-07T03:41:12.885410Z"
    }
   },
   "outputs": [
    {
     "name": "stdout",
     "output_type": "stream",
     "text": [
      "predict class: [0]\n",
      "predict proba: 0.31332093602428923\n"
     ]
    }
   ],
   "source": [
    "print('predict class:', loaded_model.predict(df_predict))\n",
    "print('predict proba:', loaded_model.predict_proba(df_predict)[0,1])"
   ]
  },
  {
   "cell_type": "code",
   "execution_count": 92,
   "metadata": {
    "ExecuteTime": {
     "end_time": "2022-02-07T03:42:29.726311Z",
     "start_time": "2022-02-07T03:42:29.699358Z"
    }
   },
   "outputs": [
    {
     "data": {
      "text/html": [
       "<div>\n",
       "<style scoped>\n",
       "    .dataframe tbody tr th:only-of-type {\n",
       "        vertical-align: middle;\n",
       "    }\n",
       "\n",
       "    .dataframe tbody tr th {\n",
       "        vertical-align: top;\n",
       "    }\n",
       "\n",
       "    .dataframe thead th {\n",
       "        text-align: right;\n",
       "    }\n",
       "</style>\n",
       "<table border=\"1\" class=\"dataframe\">\n",
       "  <thead>\n",
       "    <tr style=\"text-align: right;\">\n",
       "      <th></th>\n",
       "      <th>alcohol</th>\n",
       "      <th>density</th>\n",
       "    </tr>\n",
       "  </thead>\n",
       "  <tbody>\n",
       "    <tr>\n",
       "      <th>count</th>\n",
       "      <td>400.000000</td>\n",
       "      <td>400.000000</td>\n",
       "    </tr>\n",
       "    <tr>\n",
       "      <th>mean</th>\n",
       "      <td>10.095250</td>\n",
       "      <td>0.995458</td>\n",
       "    </tr>\n",
       "    <tr>\n",
       "      <th>std</th>\n",
       "      <td>1.069749</td>\n",
       "      <td>0.002584</td>\n",
       "    </tr>\n",
       "    <tr>\n",
       "      <th>min</th>\n",
       "      <td>8.500000</td>\n",
       "      <td>0.990000</td>\n",
       "    </tr>\n",
       "    <tr>\n",
       "      <th>25%</th>\n",
       "      <td>9.200000</td>\n",
       "      <td>0.993600</td>\n",
       "    </tr>\n",
       "    <tr>\n",
       "      <th>50%</th>\n",
       "      <td>9.900000</td>\n",
       "      <td>0.995500</td>\n",
       "    </tr>\n",
       "    <tr>\n",
       "      <th>75%</th>\n",
       "      <td>10.800000</td>\n",
       "      <td>0.997400</td>\n",
       "    </tr>\n",
       "    <tr>\n",
       "      <th>max</th>\n",
       "      <td>12.800000</td>\n",
       "      <td>1.003300</td>\n",
       "    </tr>\n",
       "  </tbody>\n",
       "</table>\n",
       "</div>"
      ],
      "text/plain": [
       "          alcohol     density\n",
       "count  400.000000  400.000000\n",
       "mean    10.095250    0.995458\n",
       "std      1.069749    0.002584\n",
       "min      8.500000    0.990000\n",
       "25%      9.200000    0.993600\n",
       "50%      9.900000    0.995500\n",
       "75%     10.800000    0.997400\n",
       "max     12.800000    1.003300"
      ]
     },
     "execution_count": 92,
     "metadata": {},
     "output_type": "execute_result"
    }
   ],
   "source": [
    "x.describe()"
   ]
  },
  {
   "cell_type": "code",
   "execution_count": 95,
   "metadata": {
    "ExecuteTime": {
     "end_time": "2022-02-07T03:46:26.253894Z",
     "start_time": "2022-02-07T03:46:26.243921Z"
    }
   },
   "outputs": [],
   "source": [
    "def predict():\n",
    "    alc=float(input('masukkan nilai alkohol (dari 8.5-12.8) '))\n",
    "    dens=float(input('masukkan nilai density (dari 0.9900-1.0033) '))\n",
    "    fal=input('masukkan nilai fixed acidity level (low, medium, high) ')\n",
    "    cl=input('masukkan nilai chlorides level (low, medium, high) ')\n",
    "    \n",
    "    df_predict=pd.DataFrame({\n",
    "    'alcohol':[alc],\n",
    "    'density':[dens],\n",
    "    'fixed acidity level':[fal],\n",
    "    'chlorides level':[cl]})\n",
    "    \n",
    "    filename='model_pickle.sav'\n",
    "    loaded_model=pickle.load(open(filename,'rb'))\n",
    "    \n",
    "    print('predict class', loaded_model.predict(df_predict)[0])\n",
    "    print('predict proba:', loaded_model.predict_proba(df_predict)[0,1])"
   ]
  },
  {
   "cell_type": "code",
   "execution_count": 96,
   "metadata": {
    "ExecuteTime": {
     "end_time": "2022-02-07T03:46:43.027446Z",
     "start_time": "2022-02-07T03:46:26.991325Z"
    }
   },
   "outputs": [
    {
     "name": "stdout",
     "output_type": "stream",
     "text": [
      "masukkan nilai alkohol (dari 8.5-12.8) 9\n",
      "masukkan nilai density (dari 0.9900-1.0033) 0.99\n",
      "masukkan nilai fixed acidity level (low, medium, high) high\n",
      "masukkan nilai chlorides level (low, medium, high) high\n",
      "predict class 0\n",
      "predict proba: 8.167718810496194e-08\n"
     ]
    }
   ],
   "source": [
    "predict()"
   ]
  },
  {
   "cell_type": "markdown",
   "metadata": {},
   "source": [
    "# Saving and using models with Joblib"
   ]
  },
  {
   "cell_type": "code",
   "execution_count": 97,
   "metadata": {
    "ExecuteTime": {
     "end_time": "2022-02-07T03:50:51.362532Z",
     "start_time": "2022-02-07T03:50:51.349536Z"
    }
   },
   "outputs": [
    {
     "data": {
      "text/plain": [
       "['model joblib']"
      ]
     },
     "execution_count": 97,
     "metadata": {},
     "output_type": "execute_result"
    }
   ],
   "source": [
    "# saving model\n",
    "joblib.dump(best_model,'model joblib')"
   ]
  },
  {
   "cell_type": "code",
   "execution_count": 98,
   "metadata": {
    "ExecuteTime": {
     "end_time": "2022-02-07T03:51:33.157052Z",
     "start_time": "2022-02-07T03:51:33.142077Z"
    }
   },
   "outputs": [],
   "source": [
    "# load model\n",
    "model_joblib=joblib.load('model joblib')"
   ]
  },
  {
   "cell_type": "code",
   "execution_count": 99,
   "metadata": {
    "ExecuteTime": {
     "end_time": "2022-02-07T03:51:52.596658Z",
     "start_time": "2022-02-07T03:51:52.578225Z"
    }
   },
   "outputs": [
    {
     "data": {
      "text/plain": [
       "array([0], dtype=int64)"
      ]
     },
     "execution_count": 99,
     "metadata": {},
     "output_type": "execute_result"
    }
   ],
   "source": [
    "# predict\n",
    "model_joblib.predict(wine_test[0:1])"
   ]
  },
  {
   "cell_type": "code",
   "execution_count": null,
   "metadata": {},
   "outputs": [],
   "source": []
  }
 ],
 "metadata": {
  "hide_input": false,
  "kernelspec": {
   "display_name": "Python 3",
   "language": "python",
   "name": "python3"
  },
  "language_info": {
   "codemirror_mode": {
    "name": "ipython",
    "version": 3
   },
   "file_extension": ".py",
   "mimetype": "text/x-python",
   "name": "python",
   "nbconvert_exporter": "python",
   "pygments_lexer": "ipython3",
   "version": "3.8.3"
  },
  "toc": {
   "base_numbering": 1,
   "nav_menu": {},
   "number_sections": true,
   "sideBar": true,
   "skip_h1_title": false,
   "title_cell": "Table of Contents",
   "title_sidebar": "Contents",
   "toc_cell": false,
   "toc_position": {},
   "toc_section_display": true,
   "toc_window_display": false
  }
 },
 "nbformat": 4,
 "nbformat_minor": 4
}
